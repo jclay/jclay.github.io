{
 "cells": [
  {
   "cell_type": "markdown",
   "metadata": {},
   "source": [
    "# About Me\n",
    "\n",
    "I'm Joel Clay, and I'm a software engineer based in NYC. I'm currently working in the Columbia University Creative Machines Lab where I'm working on OpenDML, a GPU engine for simulating lattice based structures for 3D printing.\n",
    "\n",
    "I previously worked at both my own startups, and later for [Common](common.com) where I built our technology platform for managing billing, legal and other operations for our properties.\n",
    "\n",
    "<hr />\n",
    "\n",
    "# Selected Projects\n",
    "\n",
    "### OpenDML\n",
    "\n",
    "OpenDML is capable of simulating large scale spring-mass based structures. By leveraging a parallel GPU based implementation, we are able to achieve realtime simulation of structures composed of millions of elements. (J. Clay, A. Gaudio, H. Lipson, **Massively parallel GPU-enabled spring-mass simulation** *in preparation* (2019))\n",
    "\n",
    "**Features:**\n",
    "\n",
    "- Custom Design Markup Language developed to specify integration method, lattice configuration, loadcases and much more.\n",
    "\n",
    "- Qt GUI for visualization.\n",
    "\n",
    "- Headless mode for increased performance.\n",
    "\n",
    "- Cross platform (macOs, Windows, Linux)\n",
    "\n",
    "**Topology Optimization** OpenDML also implements the ability to perform simultaneous simulation and topology optimization. We are able to achieve an optimized shape and configuration of the lattice in response to user configured constraints and the realtime response to the structure under load.\n",
    "\n",
    "\n",
    "\n",
    "**OpenDML simulating a cantilever beam under load**\n",
    "<img src=\"images/opendml_demo_Moment.jpg\" style=\"margin-left: 0px; margin-right 0px\"/>\n",
    "\n",
    "\n",
    "**Further Capabilities**\n",
    "\n",
    "OpenDML is capable of parsing 3D models and filling them with a lattice under a number of configurations. Here, I show a femur being filled with a lattice with OpenDML, simulated to verify it's performance under realistic load conditions, and finally printed.\n",
    "\n",
    "![femur](images/femur.png)\n",
    "*Left: OpenDML has filled this 3D Femur model with a lattice and ready for simulation. Right: The femur exported to STL and ready for 3D printing*\n",
    "\n",
    "<img src=\"images/printed_femur.JPG\" width=400 style=\"margin-left: 0px; margin-right 0px\"/>\n",
    "\n",
    "*The 3D printed result*\n",
    "\n",
    "\n",
    "### Misc\n",
    "\n",
    "[Modern CMake CUDA Example](https://github.com/jclay/modern-cmake-cuda). An example showing how to use the latest CMake support to configure CUDA on Windows. \n",
    "\n",
    "[Cppyy kNearestNeighbors](https://github.com/jclay/cppyy-knearestneighbors-example) A small project showing how to use Cppyy to automatically generate Python bindings for a C++ project.\n",
    "\n",
    "<hr />\n",
    "\n",
    "## Development Journal\n",
    "\n",
    "I try to keep various findings and other development topics in my journal [here](https://jclay.github.io/dev-journal/)."
   ]
  }
 ],
 "metadata": {
  "kernelspec": {
   "display_name": "Python 3",
   "language": "python",
   "name": "python3"
  },
  "language_info": {
   "codemirror_mode": {
    "name": "ipython",
    "version": 3
   },
   "file_extension": ".py",
   "mimetype": "text/x-python",
   "name": "python",
   "nbconvert_exporter": "python",
   "pygments_lexer": "ipython3",
   "version": "3.7.1"
  }
 },
 "nbformat": 4,
 "nbformat_minor": 2
}
